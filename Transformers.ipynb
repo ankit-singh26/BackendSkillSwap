{
  "nbformat": 4,
  "nbformat_minor": 0,
  "metadata": {
    "colab": {
      "provenance": [],
      "authorship_tag": "ABX9TyP2bYMYZSmdNE9+RUw21Z/0",
      "include_colab_link": true
    },
    "kernelspec": {
      "name": "python3",
      "display_name": "Python 3"
    },
    "language_info": {
      "name": "python"
    }
  },
  "cells": [
    {
      "cell_type": "markdown",
      "metadata": {
        "id": "view-in-github",
        "colab_type": "text"
      },
      "source": [
        "<a href=\"https://colab.research.google.com/github/ankit-singh26/BackendSkillSwap/blob/main/Transformers.ipynb\" target=\"_parent\"><img src=\"https://colab.research.google.com/assets/colab-badge.svg\" alt=\"Open In Colab\"/></a>"
      ]
    },
    {
      "cell_type": "code",
      "execution_count": 11,
      "metadata": {
        "id": "6HqR-bJRspWF"
      },
      "outputs": [],
      "source": [
        "from IPython import get_ipython\n",
        "from IPython.display import display\n",
        "from transformers import pipeline"
      ]
    },
    {
      "cell_type": "code",
      "source": [
        "generator = pipeline('text-generation', model=\"gpt2\", revision=\"main\")\n",
        "output = generator(\"the future of India is\", max_length=30, num_return_sequences=1)\n",
        "print(output[0][\"generated_text\"])"
      ],
      "metadata": {
        "colab": {
          "base_uri": "https://localhost:8080/"
        },
        "id": "CFxJMkXktTMd",
        "outputId": "0cd0c908-deb6-4b0b-9ecd-8a3a3b149f69"
      },
      "execution_count": 12,
      "outputs": [
        {
          "output_type": "stream",
          "name": "stderr",
          "text": [
            "Device set to use cpu\n",
            "Truncation was not explicitly activated but `max_length` is provided a specific value, please use `truncation=True` to explicitly truncate examples to max length. Defaulting to 'longest_first' truncation strategy. If you encode pairs of sequences (GLUE-style) with the tokenizer you can select this strategy more precisely by providing a specific strategy to `truncation`.\n",
            "Setting `pad_token_id` to `eos_token_id`:50256 for open-end generation.\n",
            "Both `max_new_tokens` (=256) and `max_length`(=30) seem to have been set. `max_new_tokens` will take precedence. Please refer to the documentation for more information. (https://huggingface.co/docs/transformers/main/en/main_classes/text_generation)\n"
          ]
        },
        {
          "output_type": "stream",
          "name": "stdout",
          "text": [
            "the future of India is a matter of time before the Indian people are able to vote for a government that values their lives, their culture and their interests,\" said Rajiv Gupta, president of the Association of Indian Chambers of Commerce.\n",
            "\n",
            "The government has been trying to make India what it is without imposing any economic barriers on the country. It has been trying to build a more integrated and open economy, but there isn't much of a choice on what to do.\n",
            "\n",
            "\"The government is the kingmaker in this economy,\" said K.S. Chaitanya, who runs the India Trade and Investment Board. \"It's a huge problem if the government does not have the support of the people and the business community to help the economy grow.\"\n"
          ]
        }
      ]
    },
    {
      "cell_type": "code",
      "source": [
        "summarizer = pipeline(\"summarization\")\n",
        "text = \"Abdul Kalam was the 11th President of India. He was widely respected...\"\n",
        "summary = summarizer(text)[0]['summary_text']\n",
        "print(\"Summary:\", summary)"
      ],
      "metadata": {
        "colab": {
          "base_uri": "https://localhost:8080/"
        },
        "id": "R5OyulHSuvot",
        "outputId": "1217be40-a061-4d28-c58f-b657a7ceb34c"
      },
      "execution_count": 13,
      "outputs": [
        {
          "output_type": "stream",
          "name": "stderr",
          "text": [
            "No model was supplied, defaulted to sshleifer/distilbart-cnn-12-6 and revision a4f8f3e (https://huggingface.co/sshleifer/distilbart-cnn-12-6).\n",
            "Using a pipeline without specifying a model name and revision in production is not recommended.\n",
            "Device set to use cpu\n",
            "Your max_length is set to 142, but your input_length is only 18. Since this is a summarization task, where outputs shorter than the input are typically wanted, you might consider decreasing max_length manually, e.g. summarizer('...', max_length=9)\n"
          ]
        },
        {
          "output_type": "stream",
          "name": "stdout",
          "text": [
            "Summary:  Abdul Kalam was the 11th President of India . He was widely respected and widely respected . Kalam is the son of former President Mohammed Ali Babar Khan . He died in hospital on November 28, 2009, in a state-run hospital in New Delhi . He is survived by his wife and family members .\n"
          ]
        }
      ]
    }
  ]
}